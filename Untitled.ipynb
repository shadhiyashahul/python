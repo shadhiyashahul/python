{
 "cells": [
  {
   "cell_type": "code",
   "execution_count": 1,
   "id": "d2e5c9ba-2b2f-4d25-a45b-8db7945036cf",
   "metadata": {},
   "outputs": [
    {
     "name": "stdout",
     "output_type": "stream",
     "text": [
      "1\n",
      "2\n",
      "3\n",
      "4\n",
      "5\n",
      "6\n",
      "7\n",
      "8\n",
      "9\n",
      "10\n"
     ]
    }
   ],
   "source": [
    "i=1\n",
    "\n",
    "while i <= 10:\n",
    "    print(i)\n",
    "    i += 1"
   ]
  },
  {
   "cell_type": "code",
   "execution_count": 3,
   "id": "3934f9e7-db60-4670-b6f1-26c1277580c8",
   "metadata": {},
   "outputs": [
    {
     "name": "stdin",
     "output_type": "stream",
     "text": [
      "Enter a number to generate its multiplication table:  2\n"
     ]
    },
    {
     "name": "stdout",
     "output_type": "stream",
     "text": [
      "\n",
      "Multiplication Table for 2:\n",
      "2 x 1 = 2\n",
      "2 x 2 = 4\n",
      "2 x 3 = 6\n",
      "2 x 4 = 8\n",
      "2 x 5 = 10\n",
      "2 x 6 = 12\n",
      "2 x 7 = 14\n",
      "2 x 8 = 16\n",
      "2 x 9 = 18\n",
      "2 x 10 = 20\n"
     ]
    }
   ],
   "source": [
    "try:\n",
    "    num = int(input(\"Enter a number to generate its multiplication table: \"))\n",
    "except ValueError:\n",
    "    print(\"Invalid input. Please enter an integer.\")\n",
    "    exit()\n",
    "print(f\"\\nMultiplication Table for {num}:\")\n",
    "for i in range(1, 11):  \n",
    "    product = num * i\n",
    "    print(f\"{num} x {i} = {product}\")"
   ]
  },
  {
   "cell_type": "code",
   "execution_count": 4,
   "id": "b9dd8b93-b33c-4681-9bfd-1f814c5ae361",
   "metadata": {},
   "outputs": [
    {
     "name": "stdout",
     "output_type": "stream",
     "text": [
      "*\n",
      "**\n",
      "***\n",
      "****\n",
      "*****\n"
     ]
    }
   ],
   "source": [
    "for i in range(1, 6):\n",
    "    for j in range(i):\n",
    "        print(\"*\", end=\"\")\n",
    "    print()"
   ]
  },
  {
   "cell_type": "code",
   "execution_count": 5,
   "id": "1f4307dc-b7c1-4f69-a092-67e1d26e151a",
   "metadata": {},
   "outputs": [
    {
     "name": "stdout",
     "output_type": "stream",
     "text": [
      "apples\n",
      "bananas\n",
      "blueberries\n",
      "cherries\n",
      "cantaloupes\n",
      "dates\n",
      "figs\n",
      "grapes\n",
      "kiwis\n",
      "mangos\n"
     ]
    }
   ],
   "source": [
    "fruits = [\"apples\", \"bananas\", \"blueberries\", \"cherries\", \"cantaloupes\",\"dates\", \"figs\", \"grapes\",\"kiwis\", \"mangos\"]\n",
    "for fruit in fruits:\n",
    "    print(fruit)"
   ]
  },
  {
   "cell_type": "code",
   "execution_count": 6,
   "id": "9696be95-b10c-4dcc-bd3b-4fa0fbd99d21",
   "metadata": {},
   "outputs": [
    {
     "name": "stdout",
     "output_type": "stream",
     "text": [
      "6\n"
     ]
    }
   ],
   "source": [
    "even_numbers_tuple = (2, 4, 6, 8, 10)\n",
    "print(even_numbers_tuple[2])"
   ]
  },
  {
   "cell_type": "code",
   "execution_count": 7,
   "id": "539aa6bb-cfe7-4e8f-80a3-85c9a58574df",
   "metadata": {},
   "outputs": [
    {
     "name": "stdout",
     "output_type": "stream",
     "text": [
      "{1, 2, 3, 4, 5, 6}\n"
     ]
    }
   ],
   "source": [
    "my_list = [1, 2, 2, 3, 4, 4, 5, 1, 6]\n",
    "unique_items_set = set(my_list)\n",
    "print(unique_items_set)"
   ]
  },
  {
   "cell_type": "code",
   "execution_count": 8,
   "id": "71719554-3a15-44bd-ab18-c2aa450be4a7",
   "metadata": {},
   "outputs": [
    {
     "name": "stdout",
     "output_type": "stream",
     "text": [
      "First 6 characters: python\n",
      "Last 6 characters: programming\n",
      "Every second character: ptopormig\n",
      "Reversed string: gnimmargorpnohtyp\n"
     ]
    }
   ],
   "source": [
    "string = \"pythonprogramming\"\n",
    "first_six = string[:6]\n",
    "print(f\"First 6 characters: {first_six}\")\n",
    "last_six = string[6:]\n",
    "print(f\"Last 6 characters: {last_six}\")\n",
    "every_second = string[::2]\n",
    "print(f\"Every second character: {every_second}\")\n",
    "reversed_string = string[::-1]\n",
    "print(f\"Reversed string: {reversed_string}\")"
   ]
  },
  {
   "cell_type": "code",
   "execution_count": 9,
   "id": "6175f14e-8934-48b5-b34d-9aa07a8e0e8f",
   "metadata": {},
   "outputs": [
    {
     "name": "stdout",
     "output_type": "stream",
     "text": [
      "[1, 4, 9, 16, 25, 36, 49, 64, 81, 100]\n"
     ]
    }
   ],
   "source": [
    "squares = [x**2 for x in range(1, 11)]\n",
    "print(squares)"
   ]
  },
  {
   "cell_type": "code",
   "execution_count": 10,
   "id": "486f2b8f-2fa6-413d-80fe-53b055a805a3",
   "metadata": {},
   "outputs": [
    {
     "name": "stdout",
     "output_type": "stream",
     "text": [
      "[2, 4, 6, 8, 10, 12, 14, 16, 18, 20, 22, 24, 26, 28, 30, 32, 34, 36, 38, 40, 42, 44, 46, 48, 50]\n"
     ]
    }
   ],
   "source": [
    "even_numbers = [x for x in range(1, 51) if x % 2 == 0]\n",
    "print(even_numbers)"
   ]
  },
  {
   "cell_type": "code",
   "execution_count": 11,
   "id": "5c6886a6-a290-4978-9478-f5992445d358",
   "metadata": {},
   "outputs": [
    {
     "name": "stdout",
     "output_type": "stream",
     "text": [
      "True\n",
      "False\n",
      "True\n",
      "False\n",
      "False\n",
      "True\n"
     ]
    }
   ],
   "source": [
    "import math\n",
    "\n",
    "def is_prime(n):\n",
    "    \"\"\"\n",
    "    Checks if a given number is prime.\n",
    "\n",
    "    Args:\n",
    "        n: An integer.\n",
    "\n",
    "    Returns:\n",
    "        True if n is a prime number, False otherwise.\n",
    "    \"\"\"\n",
    "    if n <= 1:\n",
    "        return False  \n",
    "    if n == 2:\n",
    "        return True  \n",
    "    if n % 2 == 0:\n",
    "        return False  \n",
    "    for i in range(3, int(math.sqrt(n)) + 1, 2):\n",
    "        if n % i == 0:\n",
    "            return False  \n",
    "    return True  \n",
    "print(is_prime(7))   # Output: True\n",
    "print(is_prime(10))  # Output: False\n",
    "print(is_prime(2))   # Output: True\n",
    "print(is_prime(1))   # Output: False\n",
    "print(is_prime(0))   # Output: False\n",
    "print(is_prime(29))  # Output: True"
   ]
  },
  {
   "cell_type": "code",
   "execution_count": 12,
   "id": "d6846a45-0f16-4216-885a-7cedd4d07c83",
   "metadata": {},
   "outputs": [
    {
     "name": "stdin",
     "output_type": "stream",
     "text": [
      "Enter a non-negative integer:  8\n"
     ]
    },
    {
     "name": "stdout",
     "output_type": "stream",
     "text": [
      "The factorial of 8 is 40320\n"
     ]
    }
   ],
   "source": [
    "def factorial(n):\n",
    "    \"\"\"\n",
    "    Calculates the factorial of a non-negative integer using recursion.\n",
    "\n",
    "    Args:\n",
    "        n: A non-negative integer.\n",
    "\n",
    "    Returns:\n",
    "        The factorial of n.\n",
    "    \"\"\"\n",
    "    if n == 0 or n == 1: \n",
    "        return 1\n",
    "    elif n < 0:\n",
    "        raise ValueError(\"Factorial is not defined for negative numbers.\")\n",
    "    else:  \n",
    "        return n * factorial(n - 1)\n",
    "try:\n",
    "    number = int(input(\"Enter a non-negative integer: \"))\n",
    "    result = factorial(number)\n",
    "    print(f\"The factorial of {number} is {result}\")\n",
    "except ValueError as e:\n",
    "    print(f\"Error: {e}\")"
   ]
  },
  {
   "cell_type": "code",
   "execution_count": 13,
   "id": "9dec9ff3-9104-46b1-bdcd-4297f91e5ec2",
   "metadata": {},
   "outputs": [
    {
     "name": "stdout",
     "output_type": "stream",
     "text": [
      "The sum of the list [1, 2, 3, 4, 5] is: 15\n",
      "The sum of the empty list [] is: 0\n"
     ]
    }
   ],
   "source": [
    "def calculate_list_sum(numbers_list):\n",
    "  \"\"\"\n",
    "  Calculates the sum of all numeric elements in a list.\n",
    "\n",
    "  Args:\n",
    "    numbers_list: A list containing numbers (integers or floats).\n",
    "\n",
    "  Returns:\n",
    "    The sum of the elements in the list. Returns 0 if the list is empty.\n",
    "  \"\"\"\n",
    "  total = 0\n",
    "  for number in numbers_list:\n",
    "    total += number\n",
    "  return total\n",
    "\n",
    "my_list = [1, 2, 3, 4, 5]\n",
    "list_sum = calculate_list_sum(my_list)\n",
    "print(f\"The sum of the list {my_list} is: {list_sum}\") \n",
    "\n",
    "empty_list = []\n",
    "empty_list_sum = calculate_list_sum(empty_list)\n",
    "print(f\"The sum of the empty list {empty_list} is: {empty_list_sum}\")"
   ]
  },
  {
   "cell_type": "code",
   "execution_count": 14,
   "id": "98d9f735-c0f0-4312-ab7a-faedca808eff",
   "metadata": {},
   "outputs": [
    {
     "name": "stdout",
     "output_type": "stream",
     "text": [
      "Student Name: Alice, Grade: A\n",
      "Student Name: Bob, Grade: 90\n"
     ]
    }
   ],
   "source": [
    "class Student:\n",
    "    def __init__(self, name, grade):\n",
    "        \"\"\"\n",
    "        Initializes a new Student object.\n",
    "\n",
    "        Args:\n",
    "            name (str): The name of the student.\n",
    "            grade (str or int): The grade of the student (e.g., 'A', 'B', or a numerical grade).\n",
    "        \"\"\"\n",
    "        self.name = name\n",
    "        self.grade = grade\n",
    "\n",
    "    def display_info(self):\n",
    "        \"\"\"\n",
    "        Prints the name and grade of the student.\n",
    "        \"\"\"\n",
    "        print(f\"Student Name: {self.name}, Grade: {self.grade}\")\n",
    "\n",
    "# Example usage:\n",
    "student1 = Student(\"Alice\", \"A\")\n",
    "student2 = Student(\"Bob\", 90)\n",
    "\n",
    "student1.display_info()\n",
    "student2.display_info()"
   ]
  },
  {
   "cell_type": "code",
   "execution_count": 15,
   "id": "749c5f52-5b0c-4349-8bf7-5907984adbb9",
   "metadata": {},
   "outputs": [
    {
     "name": "stdout",
     "output_type": "stream",
     "text": [
      "Initial name: Alice, Initial grade: 85\n",
      "Updated name: Bob, Updated grade: 92\n",
      "Invalid name. Name must be a non-empty string.\n",
      "Invalid grade. Grade must be a number between 0 and 100.\n"
     ]
    }
   ],
   "source": [
    "class Student:\n",
    "    def __init__(self, name, grade):\n",
    "        self._name = name  \n",
    "        self._grade = grade\n",
    "\n",
    "    def get_name(self):\n",
    "        \"\"\"Getter for name.\"\"\"\n",
    "        return self._name\n",
    "\n",
    "    def set_name(self, new_name):\n",
    "        \"\"\"Setter for name with optional validation.\"\"\"\n",
    "        if isinstance(new_name, str) and len(new_name) > 0:\n",
    "            self._name = new_name\n",
    "        else:\n",
    "            print(\"Invalid name. Name must be a non-empty string.\")\n",
    "\n",
    "    def get_grade(self):\n",
    "        \"\"\"Getter for grade.\"\"\"\n",
    "        return self._grade\n",
    "\n",
    "    def set_grade(self, new_grade):\n",
    "        \"\"\"Setter for grade with optional validation.\"\"\"\n",
    "        if isinstance(new_grade, (int, float)) and 0 <= new_grade <= 100:\n",
    "            self._grade = new_grade\n",
    "        else:\n",
    "            print(\"Invalid grade. Grade must be a number between 0 and 100.\")\n",
    "student1 = Student(\"Alice\", 85)\n",
    "print(f\"Initial name: {student1.get_name()}, Initial grade: {student1.get_grade()}\")\n",
    "\n",
    "student1.set_name(\"Bob\")\n",
    "student1.set_grade(92)\n",
    "print(f\"Updated name: {student1.get_name()}, Updated grade: {student1.get_grade()}\")\n",
    "\n",
    "student1.set_name(\"\")  \n",
    "student1.set_grade(105) "
   ]
  },
  {
   "cell_type": "code",
   "execution_count": 16,
   "id": "0f21ec7a-6802-49cc-ba2f-b8879a7121e6",
   "metadata": {},
   "outputs": [
    {
     "name": "stdout",
     "output_type": "stream",
     "text": [
      "Student 1 Details:\n",
      "Name: Alice\n",
      "Age: 18\n",
      "Student ID: S101\n",
      "\n",
      "Student 2 Details:\n",
      "Name: Bob\n",
      "Age: 19\n",
      "Student ID: S102\n"
     ]
    }
   ],
   "source": [
    "class Student:\n",
    "    def __init__(self, name, age, student_id):\n",
    "        self._name = name  \n",
    "        self._age = age\n",
    "        self._student_id = student_id\n",
    "    def get_name(self):\n",
    "        return self._name\n",
    "    def get_age(self):\n",
    "        return self._age\n",
    "    def get_student_id(self):\n",
    "        return self._student_id\n",
    "student1 = Student(\"Alice\", 18, \"S101\")\n",
    "student2 = Student(\"Bob\", 19, \"S102\")\n",
    "print(f\"Student 1 Details:\")\n",
    "print(f\"Name: {student1.get_name()}\")\n",
    "print(f\"Age: {student1.get_age()}\")\n",
    "print(f\"Student ID: {student1.get_student_id()}\")\n",
    "print(f\"\\nStudent 2 Details:\")\n",
    "print(f\"Name: {student2.get_name()}\")\n",
    "print(f\"Age: {student2.get_age()}\")\n",
    "print(f\"Student ID: {student2.get_student_id()}\")"
   ]
  },
  {
   "cell_type": "code",
   "execution_count": null,
   "id": "10e96df9-7d50-4423-bc00-7c5a66f212bb",
   "metadata": {},
   "outputs": [],
   "source": []
  }
 ],
 "metadata": {
  "kernelspec": {
   "display_name": "Python 3 (ipykernel)",
   "language": "python",
   "name": "python3"
  },
  "language_info": {
   "codemirror_mode": {
    "name": "ipython",
    "version": 3
   },
   "file_extension": ".py",
   "mimetype": "text/x-python",
   "name": "python",
   "nbconvert_exporter": "python",
   "pygments_lexer": "ipython3",
   "version": "3.10.12"
  }
 },
 "nbformat": 4,
 "nbformat_minor": 5
}
